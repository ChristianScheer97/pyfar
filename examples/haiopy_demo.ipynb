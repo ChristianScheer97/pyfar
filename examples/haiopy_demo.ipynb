{
 "cells": [
  {
   "source": [
    "# Welcome\n",
    "\n",
    "This is the haiopy demo and a good place for getting started. In this notebook, you will see examples of the most important haiopy functionalty.\n",
    "\n",
    "**Note:** This is not a substitute for the haiopy documentaion at **insert_url**.\n",
    "\n",
    "## Contents\n",
    "[Signals](#signals)\n",
    "- [Signal types](#signal_types)\n",
    "- [FFT normalization](#fft_normalization) TODO\n",
    "- [Accessing Signal data](#accessing_signal_data)\n",
    "- [Signal meta data](#signal_meta_data) TODO\n",
    "- [Arithmetic operations](#arithmetic_operations) TODO\n",
    "- [In'n'out](#in_and_out) TODO\n",
    "\n",
    "[Plotting](#plotting) TODO\n",
    "\n",
    "[Coordinates](#coordinates)\n",
    "- [Entering coordinate points](#coordinates_enter)\n",
    "- [Retrieving coordinate points](#coordinates_retrieve)\n",
    "- [Rotating coordinate points](#coordinates_rotate)\n",
    "\n",
    "[Orientations](#orientations)\n",
    "- [Entering orientations](#entering_orientations)TODO\n",
    "- [Retrieving orientations](#retrieving_orientations)TODO\n",
    "- [Rotating orientations](#rotating_orientations)TODO\n",
    "\n",
    "\n",
    "Lets start with importing haiopy and numpy:"
   ],
   "cell_type": "markdown",
   "metadata": {}
  },
  {
   "source": [
    "# import packages\n",
    "import haiopy\n",
    "from haiopy import Signal                      # for managing audio signals\n",
    "from haiopy.coordinates import Coordinates     # for managing satial sampling points\n",
    "from haiopy.orientations import Orientations   # for managing orientation vectors\n",
    "from haiopy.spatial import samplings           # for creating predefined spatial sampling grids\n",
    "import numpy as np                             # you gotta love numpy, but pandas are cuter"
   ],
   "cell_type": "code",
   "metadata": {},
   "execution_count": null,
   "outputs": []
  },
  {
   "source": [
    "# Signals<a class=\"anchor\" id=\"signals\"></a>\n",
    "\n",
    "Audio signals are the basis of haiopy. They are stored in objects of the `Signal` class along with information about the sampling rate, the domain (`time`, or `freq`), the FFT type and an optional comment. Lets go ahead and create a single channel signal:"
   ],
   "cell_type": "markdown",
   "metadata": {}
  },
  {
   "cell_type": "code",
   "execution_count": null,
   "metadata": {},
   "outputs": [],
   "source": [
    "# create a dirac signal with a sampling rate of 44.1 kHz\n",
    "fs = 44100\n",
    "x = np.zeros(441)\n",
    "x[0] = 1\n",
    "x_energy = Signal(x, fs, signal_type='energy')\n",
    "\n",
    "# show information\n",
    "x_energy"
   ]
  },
  {
   "source": [
    "## Signal types<a class=\"anchor\" id=\"signal_types\"></a>\n",
    "\n",
    "There are two different *signal types*: `'energy'` and `'power'`. Energy signals are finite signals with a finite energy. The most common example for an energy signal is an impulse response. Power signals are finite sections of infinte audio signals. They have infinite energy but finite power. Examples for power signals are environmental noise or sine tones. It is important to distinguish between the two and some functions have signal type specific behaviour. You will come acros this in the sections [FFT Normalization](#fft_normalization), [Arithmetic operations](#arithmetic_operations), and [Plotting](#plotting). Lets also create a power signal"
   ],
   "cell_type": "markdown",
   "metadata": {}
  },
  {
   "cell_type": "code",
   "execution_count": null,
   "metadata": {},
   "outputs": [],
   "source": [
    "x = np.sin(2 * np.pi * 1000 * np.arange(441) / fs)\n",
    "x_power = Signal(x, fs, signal_type='power')"
   ]
  },
  {
   "source": [
    "## FFT Normalization<a class=\"anchor\" id=\"fft_normalization\"></a> [ToDo]"
   ],
   "cell_type": "markdown",
   "metadata": {}
  },
  {
   "source": [
    "## Accessing Signal data<a class=\"accessing_signal_data\" id=\"signals\"></a>\n",
    "\n",
    "You can access the data, i.e., the audio signal, inside a Signal object in the time and frequency domain by simply using"
   ],
   "cell_type": "markdown",
   "metadata": {}
  },
  {
   "cell_type": "code",
   "execution_count": null,
   "metadata": {},
   "outputs": [],
   "source": [
    "time_data = x_power.time\n",
    "freq_data = x.power.freq"
   ]
  },
  {
   "source": [
    "Please note that the frequency data of `'power'` signals depends on the Signal's `fft_norm`. Internally, the data are stored either in the `'time'` or `'freq'` domain. It is tranformed every time you access it without changing the internal state. In some cases it might be more efficient to store the data in a specif domain to avoid additional Fourier Transforms. Lets check out the current domain"
   ],
   "cell_type": "markdown",
   "metadata": {}
  },
  {
   "cell_type": "code",
   "execution_count": null,
   "metadata": {},
   "outputs": [],
   "source": [
    "x_power.domain"
   ]
  },
  {
   "source": [
    "and change it"
   ],
   "cell_type": "markdown",
   "metadata": {}
  },
  {
   "cell_type": "code",
   "execution_count": null,
   "metadata": {},
   "outputs": [],
   "source": [
    "x_power.domain = 'freq'\n",
    "x_power.domain"
   ]
  },
  {
   "source": [
    "## Signal meta data<a class=\"signal_meta_data\" id=\"signals\"></a> ([pick the most important])\n",
    "\n",
    "- cshape, etc\n",
    "- n_samples\n",
    "- time\n",
    "- comment ..."
   ],
   "cell_type": "markdown",
   "metadata": {}
  },
  {
   "source": [
    "## Arithmetic operations<a class=\"arithmetic_operations\" id=\"signals\"></a> [ToDo]\n"
   ],
   "cell_type": "markdown",
   "metadata": {}
  },
  {
   "source": [
    "## In'n'out<a class=\"in_and_out\" id=\"signals\"></a> [ToDo]"
   ],
   "cell_type": "markdown",
   "metadata": {}
  },
  {
   "source": [
    "# Plotting<a class=\"anchor\" id=\"plotting\"></a> [TODO]"
   ],
   "cell_type": "markdown",
   "metadata": {}
  },
  {
   "source": [
    "# Coordinates<a class=\"anchor\" id=\"coordinates\"></a>\n",
    "\n",
    "The `Coordinates()` class is designed for storing, manipulating, and acessing coordinate points in a large variety of different coordinate conventions. Examples for data that can be stored are microphone positions of a spherical microphone array and loudspeaker positions of a sound field synthesis system. Lets create and empty `Coordinates` object and look at the implemented conventions first:"
   ],
   "cell_type": "markdown",
   "metadata": {}
  },
  {
   "cell_type": "code",
   "execution_count": null,
   "metadata": {},
   "outputs": [],
   "source": [
    "c = Coordinates()\n",
    "c.systems()"
   ]
  },
  {
   "source": [
    "## Entering coordinate points<a class=\"anchor\" id=\"coordinates_enter\"></a>\n",
    "\n",
    "Coordinate points can be entered manually or by using one of the available sampling schemes contained in `haiopy.spatial.samplings`. We will do the latter using an equal angle sampling and look at the information provided by the coordinates object:"
   ],
   "cell_type": "markdown",
   "metadata": {}
  },
  {
   "cell_type": "code",
   "execution_count": null,
   "metadata": {},
   "outputs": [],
   "source": [
    "c = samplings.sph_equal_angle((20, 10))\n",
    "# show general information\n",
    "print(c)\n",
    "# plot the sampling points\n",
    "c.show()"
   ]
  },
  {
   "source": [
    "Inside the `Coordinates` object, the points are stored in an N-dimensional array of size `[..., 3]` where the last dimension in this case holds the azimuth, colatitude, and radius. Information about coordinate array can be obtained by `c.cshape`, `c.csize`, and `c.cdim`. These properties are similar to numpy's `shape`, `size`, and `dim` but ignore the last dimension, which is always 3."
   ],
   "cell_type": "markdown",
   "metadata": {}
  },
  {
   "source": [
    "## Retrieving coordinate points<a class=\"anchor\" id=\"coordinates_retrieve\"></a>\n",
    "\n",
    "There are different ways to retrieve points from a `Coordinates` object. All points can be obtained in cartesian, spherical, and cylindrical coordinates using the getter functions `c.get_cart()`, `c.get_sph()` and `c.get_cyl()`, e.g.:"
   ],
   "cell_type": "markdown",
   "metadata": {}
  },
  {
   "cell_type": "code",
   "execution_count": null,
   "metadata": {},
   "outputs": [],
   "source": [
    "cartesian_coordinates = c.get_cart()"
   ]
  },
  {
   "source": [
    "Different methods are available for obtaining a specific subset of coordinates. For example the nearest point(s) can be obtained by"
   ],
   "cell_type": "markdown",
   "metadata": {}
  },
  {
   "cell_type": "code",
   "execution_count": null,
   "metadata": {},
   "outputs": [],
   "source": [
    "c_out = c.get_nearest_k(\n",
    "    270, 90, 1, k=1, domain='sph', convention='top_colat', unit='deg', show=True)"
   ]
  },
  {
   "source": [
    "To obtain all points within a specified eucledian distance or arc distance, you can use `c.get_nearest_cart()` and `c.get_nearest_sph()`. To obtain more complicated subsets of any coordinate, e.g., the horizontal plane with `colatitude=90` degree, you can use slicing"
   ],
   "cell_type": "markdown",
   "metadata": {}
  },
  {
   "cell_type": "code",
   "execution_count": null,
   "metadata": {},
   "outputs": [],
   "source": [
    "mask_hor = c.get_slice('colatitude', 'deg', 90, show=True)"
   ]
  },
  {
   "source": [
    "## Rotating coordinates<a class=\"anchor\" id=\"coordinates_rotate\"></a>\n",
    "\n",
    "You can apply rotations using quaternions, rotation vectors/matrixes and euler angles with  `c.rotate()`. For example rotating around the y-axis by 45 degrees can be done with"
   ],
   "cell_type": "markdown",
   "metadata": {}
  },
  {
   "cell_type": "code",
   "execution_count": null,
   "metadata": {},
   "outputs": [],
   "source": [
    "c.rotate('y', 45)\n",
    "c.show()"
   ]
  },
  {
   "source": [
    "Note that this changes the points inside the `Coordinates` object, which means that you have to be carefull not to apply the rotation multiple times, i.e., when evaluationg cells during debugging."
   ],
   "cell_type": "markdown",
   "metadata": {}
  },
  {
   "source": [
    "# Orientations<a class=\"anchor\" id=\"orientations\"></a>\n",
    "\n",
    "The `Orientations()` class is designed storing, manipulating, and accessing orientation vectors. Examples for this are the orientations of directional loudspeakers when measuring room impulse responses or the head orientation belonging to binaural impulse responses. It is good to know that `Orientations` is inherited from `scipy.spatial.transform.Rotation` and that all methods of this class can also be used with `Orientations`.\n",
    "\n",
    "## Entering orientations<a class=\"anchor\" id=\"entering_orientations\"></a> [TODO]\n",
    "\n",
    "Lets go ahead and create an object"
   ],
   "cell_type": "markdown",
   "metadata": {}
  },
  {
   "cell_type": "code",
   "execution_count": null,
   "metadata": {},
   "outputs": [],
   "source": [
    "views = [[0,  1, 0],\n",
    "         [1,  0, 0],\n",
    "         [0, -1, 0]]\n",
    "views = [-1,  0, 0]\n",
    "ups = [0, 1, 0]\n",
    "orientations = Orientations.from_view_up(views, ups)\n"
   ]
  }
 ],
 "metadata": {
  "kernelspec": {
   "name": "Python 3.8.5 64-bit",
   "display_name": "Python 3.8.5 64-bit",
   "metadata": {
    "interpreter": {
     "hash": "127c24c75f4f8b62fc81a01043e28cbce4eb8ec432eec1cfbc6e85325b030153"
    }
   }
  },
  "language_info": {
   "codemirror_mode": {
    "name": "ipython",
    "version": 3
   },
   "file_extension": ".py",
   "mimetype": "text/x-python",
   "name": "python",
   "nbconvert_exporter": "python",
   "pygments_lexer": "ipython3",
   "version": "3.8.5-final"
  }
 },
 "nbformat": 4,
 "nbformat_minor": 4
}