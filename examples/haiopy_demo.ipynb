{
 "cells": [
  {
   "source": [
    "# Welcome\n",
    "\n",
    "This is the haiopy demo and a good place for getting started. In this notebook, you will see examples of the most important haiopy functionalty.\n",
    "\n",
    "**Note:** This is not a substitute for the haiopy documentaion at **insert_url**.\n",
    "\n",
    "Lets start with importing haiopy and numpy:"
   ],
   "cell_type": "markdown",
   "metadata": {}
  },
  {
   "source": [
    "# import packages\n",
    "import haiopy\n",
    "import numpy as np"
   ],
   "cell_type": "code",
   "metadata": {},
   "execution_count": 1,
   "outputs": []
  },
  {
   "source": [
    "# Signal\n",
    "\n",
    "Audio signals are the basis of haiopy. They are stored in objects of the Signal class along with information about the sampling rate, the domain (`time`, or `freq`), the FFT type and an optional comment. Lets go ahead and create a single channel signal:"
   ],
   "cell_type": "markdown",
   "metadata": {}
  },
  {
   "cell_type": "code",
   "execution_count": 5,
   "metadata": {},
   "outputs": [
    {
     "output_type": "execute_result",
     "data": {
      "text/plain": [
       "Audio Signal\n",
       "--------------------\n",
       "(1,) channels with 1000 samples @ 44100 Hz sampling rate"
      ]
     },
     "metadata": {},
     "execution_count": 5
    }
   ],
   "source": [
    "# create a signal\n",
    "x = haiopy.Signal(np.sin(np.linspace(0, 40 * np.pi, 1000)),  # this is the signal\n",
    "                  44100)                                     # this is the sampling rate in Hz\n",
    "\n",
    "# show information\n",
    "x"
   ]
  },
  {
   "source": [
    "# ... the demo will be continued, when all the essentials are merged into develop"
   ],
   "cell_type": "markdown",
   "metadata": {}
  }
 ],
 "metadata": {
  "kernelspec": {
   "name": "Python 3.8.5 64-bit",
   "display_name": "Python 3.8.5 64-bit",
   "metadata": {
    "interpreter": {
     "hash": "127c24c75f4f8b62fc81a01043e28cbce4eb8ec432eec1cfbc6e85325b030153"
    }
   }
  },
  "language_info": {
   "codemirror_mode": {
    "name": "ipython",
    "version": 3
   },
   "file_extension": ".py",
   "mimetype": "text/x-python",
   "name": "python",
   "nbconvert_exporter": "python",
   "pygments_lexer": "ipython3",
   "version": "3.8.5-final"
  }
 },
 "nbformat": 4,
 "nbformat_minor": 4
}