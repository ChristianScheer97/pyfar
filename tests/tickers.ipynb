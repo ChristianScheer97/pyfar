{
 "cells": [
  {
   "cell_type": "code",
   "execution_count": 8,
   "metadata": {},
   "outputs": [
    {
     "data": {
      "image/png": "[encoded data removed]",
      "text/plain": [
       "<Figure size 576x216 with 4 Axes>"
      ]
     },
     "metadata": {
      "needs_background": "light"
     },
     "output_type": "display_data"
    }
   ],
   "source": [
    "\"\"\"\n",
    "=============\n",
    "Tick locators\n",
    "=============\n",
    "\n",
    "Show the different tick locators.\n",
    "\"\"\"\n",
    "%matplotlib inline\n",
    "import numpy as np\n",
    "import matplotlib.pyplot as plt\n",
    "import matplotlib.ticker as ticker\n",
    "import haiopy.plot.ticker as hticker\n",
    "\n",
    "\n",
    "# Setup a plot such that only the bottom spine is shown\n",
    "def setup(ax):\n",
    "    ax.spines['right'].set_color('none')\n",
    "    ax.spines['left'].set_color('none')\n",
    "    ax.yaxis.set_major_locator(ticker.NullLocator())\n",
    "    ax.spines['top'].set_color('none')\n",
    "    ax.xaxis.set_ticks_position('bottom')\n",
    "    ax.tick_params(which='major', width=1.00)\n",
    "    ax.tick_params(which='major', length=5)\n",
    "    ax.tick_params(which='minor', width=0.75)\n",
    "    ax.tick_params(which='minor', length=2.5)\n",
    "    ax.set_xlim(0, 5)\n",
    "    ax.set_ylim(0, 1)\n",
    "    ax.patch.set_alpha(0.0)\n",
    "\n",
    "\n",
    "plt.figure(figsize=(8, 3))\n",
    "n = 4\n",
    "\n",
    "# Null Locator\n",
    "ax = plt.subplot(n, 1, 1)\n",
    "setup(ax)\n",
    "ax.xaxis.set_major_locator(ticker.NullLocator())\n",
    "ax.xaxis.set_minor_locator(ticker.NullLocator())\n",
    "ax.text(0.0, 0.1, \"NullLocator()\", fontsize=14, transform=ax.transAxes)\n",
    "\n",
    "# Log Locator\n",
    "ax = plt.subplot(n, 1, 2)\n",
    "setup(ax)\n",
    "ax.set_xlim(20, 20e3)\n",
    "ax.set_xscale('log')\n",
    "ax.xaxis.set_major_locator(ticker.LogLocator(base=10.0, numticks=15))\n",
    "ax.text(0.0, 0.1, \"LogLocator(base=10, numticks=15)\",\n",
    "        fontsize=15, transform=ax.transAxes)\n",
    "\n",
    "# Log Locator ITA\n",
    "ax = plt.subplot(n, 1, 3)\n",
    "setup(ax)\n",
    "ax.set_xlim(20, 20e3)\n",
    "ax.set_xscale('log')\n",
    "ax.xaxis.set_major_locator(hticker.LogLocatorITAToolbox(base=10.0, numticks=15))\n",
    "ax.xaxis.set_major_formatter(hticker.LogFormatterITAToolbox(base=10.0))\n",
    "ax.text(0.0, 0.1, \"LogLocatorITAToolbox\",\n",
    "        fontsize=15, transform=ax.transAxes)\n",
    "\n",
    "# Log Locator ITA\n",
    "ax = plt.subplot(n, 1, 4)\n",
    "setup(ax)\n",
    "ax.set_xlim(20, 20e3)\n",
    "ax.set_xscale('log')\n",
    "ax.xaxis.set_major_locator(hticker.FractionalOctaveLocator())\n",
    "ax.xaxis.set_minor_locator(hticker.FractionalOctaveLocator(n_fractions=3))\n",
    "ax.xaxis.set_major_formatter(hticker.FractionalOctaveFormatter())\n",
    "ax.xaxis.set_minor_formatter(ticker.NullFormatter())\n",
    "ax.text(0.0, 0.1, \"FractionalOctaveLocator\",\n",
    "        fontsize=15, transform=ax.transAxes)\n",
    "\n",
    "\n",
    "# Push the top of the top axes outside the figure because we only show the\n",
    "# bottom spine.\n",
    "plt.subplots_adjust(left=0.05, right=0.95, bottom=0.05, top=1.05)\n",
    "\n",
    "plt.show()"
   ]
  }
 ],
 "metadata": {
  "kernelspec": {
   "display_name": "Python 3",
   "language": "python",
   "name": "python3"
  },
  "language_info": {
   "codemirror_mode": {
    "name": "ipython",
    "version": 3
   },
   "file_extension": ".py",
   "mimetype": "text/x-python",
   "name": "python",
   "nbconvert_exporter": "python",
   "pygments_lexer": "ipython3",
   "version": "3.6.8"
  }
 },
 "nbformat": 4,
 "nbformat_minor": 4
}
